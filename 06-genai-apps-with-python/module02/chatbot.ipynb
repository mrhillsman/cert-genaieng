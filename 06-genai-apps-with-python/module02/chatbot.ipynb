{
 "cells": [
  {
   "cell_type": "code",
   "id": "initial_id",
   "metadata": {
    "collapsed": true,
    "ExecuteTime": {
     "end_time": "2025-01-17T04:46:08.412828Z",
     "start_time": "2025-01-17T04:46:06.320370Z"
    }
   },
   "source": [
    "from transformers import AutoTokenizer, AutoModelForSeq2SeqLM\n",
    "\n",
    "model_name = \"facebook/blenderbot-400M-distill\"\n",
    "\n",
    "# Class to interact with the model\n",
    "model = AutoModelForSeq2SeqLM.from_pretrained(model_name)\n",
    "\n",
    "# Class to optimize input and efficiently pass to model as tokens\n",
    "tokenizer = AutoTokenizer.from_pretrained(model_name)\n",
    "\n",
    "# [input_1, output_1, input_2, output_2,...]\n",
    "conversation_history = []\n",
    "\n",
    "# transformers expects to receive the conversation history as a string,\n",
    "# with each element separated by the newline character '\\n'\n",
    "history_string = \"\\n\".join(conversation_history)\n",
    "\n",
    "input_text = \"Hello, how are you doing?\"\n"
   ],
   "outputs": [],
   "execution_count": 1
  },
  {
   "metadata": {
    "ExecuteTime": {
     "end_time": "2025-01-17T04:46:11.270039Z",
     "start_time": "2025-01-17T04:46:11.266605Z"
    }
   },
   "cell_type": "code",
   "source": [
    "inputs = tokenizer.encode_plus(history_string, input_text, return_tensors=\"pt\")\n",
    "print(inputs)"
   ],
   "id": "d28a404da1c383f",
   "outputs": [
    {
     "name": "stdout",
     "output_type": "stream",
     "text": [
      "{'input_ids': tensor([[6950,   19,  544,  366,  304,  929,   38]]), 'attention_mask': tensor([[1, 1, 1, 1, 1, 1, 1]])}\n"
     ]
    }
   ],
   "execution_count": 2
  },
  {
   "metadata": {
    "ExecuteTime": {
     "end_time": "2025-01-17T05:12:58.022973Z",
     "start_time": "2025-01-17T05:12:57.013101Z"
    }
   },
   "cell_type": "code",
   "source": [
    "#tokenizer.vocab\n",
    "outputs = model.generate(**inputs)\n",
    "result = []\n",
    "for i in outputs[0]:\n",
    "    for k, v in tokenizer.vocab.items():\n",
    "        if v == i:\n",
    "            result.append(k)\n",
    "\n",
    "print(result)"
   ],
   "id": "db0fc8b6a406972f",
   "outputs": [
    {
     "name": "stdout",
     "output_type": "stream",
     "text": [
      "['<s>', 'ĠI', \"'m\", 'Ġdoing', 'Ġwell', '.', 'ĠI', 'Ġam', 'Ġdoing', 'Ġvery', 'Ġwell', '.', 'ĠHow', 'Ġare', 'Ġyou', '?', 'ĠI', 'Ġam', 'Ġgood', '.', '</s>']\n"
     ]
    }
   ],
   "execution_count": 28
  },
  {
   "metadata": {
    "ExecuteTime": {
     "end_time": "2025-01-17T05:13:31.442065Z",
     "start_time": "2025-01-17T05:13:31.439199Z"
    }
   },
   "cell_type": "code",
   "source": [
    "response = tokenizer.decode(outputs[0], skip_special_tokens=True).strip()\n",
    "print(response)"
   ],
   "id": "95c54cdabdee194c",
   "outputs": [
    {
     "name": "stdout",
     "output_type": "stream",
     "text": [
      "I'm doing well. I am doing very well. How are you? I am good.\n"
     ]
    }
   ],
   "execution_count": 29
  }
 ],
 "metadata": {
  "kernelspec": {
   "display_name": "Python 3",
   "language": "python",
   "name": "python3"
  },
  "language_info": {
   "codemirror_mode": {
    "name": "ipython",
    "version": 2
   },
   "file_extension": ".py",
   "mimetype": "text/x-python",
   "name": "python",
   "nbconvert_exporter": "python",
   "pygments_lexer": "ipython2",
   "version": "2.7.6"
  }
 },
 "nbformat": 4,
 "nbformat_minor": 5
}
