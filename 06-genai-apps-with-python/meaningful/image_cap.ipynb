{
 "cells": [
  {
   "metadata": {
    "ExecuteTime": {
     "end_time": "2025-01-16T04:36:24.034413Z",
     "start_time": "2025-01-16T04:36:20.721604Z"
    }
   },
   "cell_type": "code",
   "source": [
    "import requests\n",
    "from PIL import Image\n",
    "from transformers import AutoProcessor, BlipForConditionalGeneration"
   ],
   "id": "546c082462565162",
   "outputs": [],
   "execution_count": 1
  },
  {
   "metadata": {
    "ExecuteTime": {
     "end_time": "2025-01-16T04:36:37.223144Z",
     "start_time": "2025-01-16T04:36:36.174507Z"
    }
   },
   "cell_type": "code",
   "source": [
    "# Load the pretrained processor and model\n",
    "processor = AutoProcessor.from_pretrained(\"Salesforce/blip-image-captioning-base\")\n",
    "model = BlipForConditionalGeneration.from_pretrained(\"Salesforce/blip-image-captioning-base\")"
   ],
   "id": "30ae8f962a064e75",
   "outputs": [],
   "execution_count": 2
  },
  {
   "metadata": {
    "ExecuteTime": {
     "end_time": "2025-01-16T04:36:59.733668Z",
     "start_time": "2025-01-16T04:36:59.727756Z"
    }
   },
   "cell_type": "code",
   "source": [
    "# Load your image, DON'T FORGET TO WRITE YOUR IMAGE NAME\n",
    "img_path = \"../content/lion2.jpg\"\n",
    "# convert it into an RGB format\n",
    "image = Image.open(img_path).convert('RGB')"
   ],
   "id": "4a6cc52c71717eac",
   "outputs": [],
   "execution_count": 3
  },
  {
   "metadata": {
    "ExecuteTime": {
     "end_time": "2025-01-16T04:37:42.543950Z",
     "start_time": "2025-01-16T04:37:42.029375Z"
    }
   },
   "cell_type": "code",
   "source": [
    "# You do not need a question for image captioning\n",
    "text = \"the image of\"\n",
    "inputs = processor(images=image, text=text, return_tensors=\"pt\")\n",
    "\n",
    "# Generate a caption for the image\n",
    "outputs = model.generate(**inputs, max_length=50)\n",
    "\n",
    "# Decode the generated tokens to text\n",
    "caption = processor.decode(outputs[0], skip_special_tokens=True)\n",
    "# Print the caption\n",
    "print(caption)"
   ],
   "id": "541fa6d7e8ec3d36",
   "outputs": [
    {
     "name": "stdout",
     "output_type": "stream",
     "text": [
      "the image of a lion is very interesting\n"
     ]
    }
   ],
   "execution_count": 5
  }
 ],
 "metadata": {
  "kernelspec": {
   "name": "python3",
   "language": "python",
   "display_name": "Python 3 (ipykernel)"
  }
 },
 "nbformat": 5,
 "nbformat_minor": 9
}
