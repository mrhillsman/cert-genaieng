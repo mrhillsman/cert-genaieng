{
 "cells": [
  {
   "cell_type": "code",
   "id": "initial_id",
   "metadata": {
    "collapsed": true,
    "ExecuteTime": {
     "end_time": "2025-01-15T16:53:56.867832Z",
     "start_time": "2025-01-15T16:53:56.866066Z"
    }
   },
   "source": [
    "from transformers import BlipProcessor, BlipForConditionalGeneration\n",
    "from PIL import Image\n",
    "from transformers.agents.evaluate_agent import question_answerer"
   ],
   "outputs": [],
   "execution_count": 3
  },
  {
   "metadata": {
    "ExecuteTime": {
     "end_time": "2025-01-15T16:54:28.017291Z",
     "start_time": "2025-01-15T16:54:00.916147Z"
    }
   },
   "cell_type": "code",
   "source": [
    "# Initialize the model and processor\n",
    "processor = BlipProcessor.from_pretrained(\"Salesforce/blip-image-captioning-base\")\n",
    "model = BlipForConditionalGeneration.from_pretrained(\"Salesforce/blip-image-captioning-base\")\n",
    "\n",
    "# Load an image\n",
    "image = Image.open(\"content/captionme.jpg\")\n",
    "\n",
    "# Prepare the image\n",
    "inputs = processor(image, return_tensors=\"pt\")\n",
    "\n",
    "# Generate caption\n",
    "outputs = model.generate(**inputs)\n",
    "caption = processor.decode(outputs[0], skip_special_tokens=True)\n",
    "\n",
    "# Print the caption\n",
    "f\"Generated caption: {caption}\""
   ],
   "id": "e169339c8241773f",
   "outputs": [
    {
     "data": {
      "text/plain": [
       "'Generated caption: black people holding signs and flags in a crowd'"
      ]
     },
     "execution_count": 4,
     "metadata": {},
     "output_type": "execute_result"
    }
   ],
   "execution_count": 4
  },
  {
   "metadata": {
    "ExecuteTime": {
     "end_time": "2025-01-15T17:01:24.988969Z",
     "start_time": "2025-01-15T17:01:23.881146Z"
    }
   },
   "cell_type": "code",
   "source": [
    "# Initialize the model and processor\n",
    "processor = BlipProcessor.from_pretrained(\"Salesforce/blip-image-captioning-base\")\n",
    "model = BlipForConditionalGeneration.from_pretrained(\"Salesforce/blip-image-captioning-base\")\n",
    "\n",
    "# Load an image\n",
    "image = Image.open(\"content/captionme.jpg\").convert(\"RGB\")\n",
    "\n",
    "# Ask a question\n",
    "question = \"What is in the image?\"\n",
    "\n",
    "# Prepare the image\n",
    "inputs = processor(image, question, return_tensors=\"pt\")\n",
    "\n",
    "# Generate caption\n",
    "outputs = model.generate(**inputs)\n",
    "answer = processor.decode(outputs[0], skip_special_tokens=True)\n",
    "\n",
    "# Split question and answer\n",
    "question, answer = answer.split(\"? \")\n",
    "\n",
    "# Print the caption\n",
    "f\"Question: {question}? Answer: {answer}\""
   ],
   "id": "92f5745814d76f7f",
   "outputs": [
    {
     "data": {
      "text/plain": [
       "'Question: what is in the image? Answer: black history'"
      ]
     },
     "execution_count": 10,
     "metadata": {},
     "output_type": "execute_result"
    }
   ],
   "execution_count": 10
  }
 ],
 "metadata": {
  "kernelspec": {
   "display_name": "Python 3",
   "language": "python",
   "name": "python3"
  },
  "language_info": {
   "codemirror_mode": {
    "name": "ipython",
    "version": 2
   },
   "file_extension": ".py",
   "mimetype": "text/x-python",
   "name": "python",
   "nbconvert_exporter": "python",
   "pygments_lexer": "ipython2",
   "version": "2.7.6"
  }
 },
 "nbformat": 4,
 "nbformat_minor": 5
}
