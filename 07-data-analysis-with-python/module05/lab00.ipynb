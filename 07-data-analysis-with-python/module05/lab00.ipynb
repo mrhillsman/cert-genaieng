{
 "cells": [
  {
   "cell_type": "code",
   "id": "initial_id",
   "metadata": {
    "collapsed": true
   },
   "source": [
    "\"\"\" Lab: Model Evaluation and Refinement - Used Cars Pricing \"\"\"\n",
    "\"\"\" Define all imports \"\"\"\n",
    "import requests\n",
    "import os\n",
    "import warnings\n",
    "\n",
    "import matplotlib.pyplot as plt\n",
    "import numpy as np\n",
    "import pandas as pd\n",
    "import seaborn as sbn\n",
    "\n",
    "from ipywidgets import interact, interactive, fixed, interact_manual\n",
    "\n",
    "warnings.filterwarnings('ignore')"
   ],
   "outputs": [],
   "execution_count": null
  },
  {
   "metadata": {},
   "cell_type": "code",
   "source": [
    "\"\"\" Define all CONSTANTS \"\"\"\n",
    "\n",
    "HEADERS = [\"symboling\",\"normalized-losses\",\"make\",\"fuel-type\",\"aspiration\",\"num-of-doors\",\n",
    "           \"body-style\",\"drive-wheels\",\"engine-location\",\"wheel-base\",\"length\",\"width\",\n",
    "           \"height\",\"curb-weight\",\"engine-type\",\"num-of-cylinders\",\"engine-size\",\n",
    "           \"fuel-system\",\"bore\",\"stroke\",\"compression-ratio\",\"horsepower\",\"peak-rpm\",\n",
    "           \"city-mpg\",\"highway-mpg\",\"price\"]\n",
    "\n",
    "FILE_PATH = ('https://cf-courses-data.s3.us.cloud-object-storage.appdomain.cloud/'\n",
    "             + 'IBMDeveloperSkillsNetwork-DA0101EN-SkillsNetwork/labs/Data%20files/module_5_auto.csv')"
   ],
   "id": "a7cc86f6222b6aaa",
   "outputs": [],
   "execution_count": null
  },
  {
   "metadata": {},
   "cell_type": "code",
   "source": [
    "\"\"\" Define all functions \"\"\"\n",
    "def download(url, filename):\n",
    "    resp = requests.get(url)\n",
    "    if resp.status_code == 200:\n",
    "        with open(filename, 'w') as f:\n",
    "            f.write(resp.text)\n",
    "\n",
    "def distributionplot(RedFunction, BlueFunction, RedName, BlueName, Title):\n",
    "    width = 12\n",
    "    height = 10\n",
    "    plt.figure(figsize=(width, height))\n",
    "\n",
    "    ax1 = sbn.kdeplot(RedFunction, color=\"r\", label=RedName)\n",
    "    ax2 = sbn.kdeplot(BlueFunction, color=\"b\", label=BlueName, ax=ax1)\n",
    "\n",
    "    plt.title(Title)\n",
    "    plt.xlabel('Price (in dollars)')\n",
    "    plt.ylabel('Proportion of Cars')\n",
    "    plt.show()\n",
    "    plt.close()\n",
    "\n",
    "\n",
    "def pollyplot(xtrain, xtest, y_train, y_test, lr,poly_transform):\n",
    "    width = 12\n",
    "    height = 10\n",
    "    plt.figure(figsize=(width, height))\n",
    "\n",
    "    #training data\n",
    "    #testing data\n",
    "    # lr:  linear regression object\n",
    "    #poly_transform:  polynomial transformation object\n",
    "\n",
    "    xmax=max([xtrain.values.max(), xtest.values.max()])\n",
    "    xmin=min([xtrain.values.min(), xtest.values.min()])\n",
    "    x=np.arange(xmin, xmax, 0.1)\n",
    "\n",
    "    plt.plot(xtrain, y_train, 'ro', label='Training Data')\n",
    "    plt.plot(xtest, y_test, 'go', label='Test Data')\n",
    "    plt.plot(x, lr.predict(poly_transform.fit_transform(x.reshape(-1, 1))), label='Predicted Function')\n",
    "    plt.ylim([-10000, 60000])\n",
    "    plt.ylabel('Price')\n",
    "    plt.legend()\n",
    "\n",
    "\n",
    "def f(order, test_data):\n",
    "    x_train, x_test, y_train, y_test = train_test_split(x_data, y_data, test_size=test_data, random_state=0)\n",
    "    pr = PolynomialFeatures(degree=order)\n",
    "    x_train_pr = pr.fit_transform(x_train[['horsepower']])\n",
    "    x_test_pr = pr.fit_transform(x_test[['horsepower']])\n",
    "    poly = LinearRegression()\n",
    "    poly.fit(x_train_pr,y_train)\n",
    "    pollyplot(x_train['horsepower'], x_test['horsepower'], y_train, y_test, poly,pr)"
   ],
   "id": "c61fb55ee56f7298",
   "outputs": [],
   "execution_count": null
  },
  {
   "metadata": {},
   "cell_type": "code",
   "source": [
    "file_name = '../module06/module_5_auto.csv'\n",
    "if not os.path.isfile('../module06/module_5_auto.csv'):\n",
    "    download(FILE_PATH, '../module06/module_5_auto.csv')\n",
    "    file_name = '../module06/module_5_auto.csv'\n",
    "\n",
    "df = pd.read_csv(file_name, header=0)\n",
    "df = df._get_numeric_data()\n",
    "df.drop(['Unnamed: 0.1', 'Unnamed: 0'], axis=1, inplace=True)"
   ],
   "id": "c873a59182c4f438",
   "outputs": [],
   "execution_count": null
  },
  {
   "metadata": {},
   "cell_type": "code",
   "source": [
    "y_data = df['price']\n",
    "x_data = df.drop('price', axis=1)\n",
    "\n",
    "from sklearn.model_selection import train_test_split\n",
    "\n",
    "x_train, x_test, y_train, y_test = train_test_split(x_data, y_data, test_size=0.4, random_state=0)\n",
    "\n",
    "print(\"test samples: \", x_test.shape[0])\n",
    "print(\"train samples: \", x_train.shape[0])\n",
    "\n",
    "from sklearn.linear_model import LinearRegression\n",
    "\n",
    "lr = LinearRegression()\n",
    "lr.fit(x_train[['horsepower']], y_train)\n",
    "print(lr.score(x_test[['horsepower']], y_test))\n",
    "print(lr.score(x_train[['horsepower']], y_train))\n",
    "\n",
    "from sklearn.model_selection import cross_val_score\n",
    "rcross = cross_val_score(lr, x_data[['horsepower']], y_data, cv=4)\n",
    "print(rcross)\n",
    "\n",
    "print(\"The mean of the folds is:\", rcross.mean(), \"and the standard deviation is:\", rcross.std())\n",
    "\n",
    "rscore = cross_val_score(lr, x_data[['horsepower']], y_data, cv=2)\n",
    "print(rscore)"
   ],
   "id": "58577a8cd3d8693b",
   "outputs": [],
   "execution_count": null
  },
  {
   "metadata": {},
   "cell_type": "code",
   "source": [
    "from sklearn.model_selection import cross_val_predict\n",
    "\n",
    "yhat = cross_val_predict(lr, x_data[['horsepower']], y_data, cv=4)"
   ],
   "id": "a48ecf7287249800",
   "outputs": [],
   "execution_count": null
  },
  {
   "metadata": {},
   "cell_type": "code",
   "source": "len(yhat)",
   "id": "15a95f154c99dab",
   "outputs": [],
   "execution_count": null
  },
  {
   "metadata": {},
   "cell_type": "code",
   "source": "df.iloc[0]",
   "id": "f4c9fdc2fb441d8c",
   "outputs": [],
   "execution_count": null
  },
  {
   "metadata": {},
   "cell_type": "code",
   "source": "yhat[0]",
   "id": "2a5da0b9ed0a7945",
   "outputs": [],
   "execution_count": null
  },
  {
   "metadata": {},
   "cell_type": "code",
   "source": "y_data[0]",
   "id": "e6352fc6b6a82358",
   "outputs": [],
   "execution_count": null
  },
  {
   "metadata": {},
   "cell_type": "code",
   "source": "x_data.iloc[0]['horsepower']",
   "id": "1e72a148aacfe81c",
   "outputs": [],
   "execution_count": null
  },
  {
   "metadata": {},
   "cell_type": "code",
   "source": "x_data.iloc[0]",
   "id": "3b0fb2bc64ac1163",
   "outputs": [],
   "execution_count": null
  },
  {
   "metadata": {},
   "cell_type": "code",
   "source": [
    "# total number of predictions\n",
    "print(len(yhat))\n",
    "# print the entire first entry of the original dataset\n",
    "print(df.iloc[0])\n",
    "# print the horsepower value used in the prediction\n",
    "print(x_data.iloc[0]['horsepower'])\n",
    "# print the first predicted value\n",
    "print(yhat[0])\n",
    "# print the actual target from original dataset\n",
    "print(y_data[0])"
   ],
   "id": "b498788f20117f82",
   "outputs": [],
   "execution_count": null
  },
  {
   "metadata": {},
   "cell_type": "code",
   "source": "lr.fit(x_train[['horsepower', 'curb-weight', 'engine-size', 'highway-mpg']], y_train)",
   "id": "9d4ce75ef5b894ff",
   "outputs": [],
   "execution_count": null
  },
  {
   "metadata": {},
   "cell_type": "code",
   "source": "yhat_train = lr.predict(x_train[['horsepower', 'curb-weight', 'engine-size', 'highway-mpg']])",
   "id": "4ea6f08ad37df059",
   "outputs": [],
   "execution_count": null
  },
  {
   "metadata": {},
   "cell_type": "code",
   "source": "yhat_train[0]",
   "id": "4a05d27bd8ee74a2",
   "outputs": [],
   "execution_count": null
  },
  {
   "metadata": {},
   "cell_type": "code",
   "source": "yhat_test = lr.predict(x_test[['horsepower', 'curb-weight', 'engine-size', 'highway-mpg']])",
   "id": "9fea9a9104145c67",
   "outputs": [],
   "execution_count": null
  },
  {
   "metadata": {},
   "cell_type": "code",
   "source": "yhat_test[0]",
   "id": "fc2cdf6a71b16c52",
   "outputs": [],
   "execution_count": null
  },
  {
   "metadata": {},
   "cell_type": "code",
   "source": [
    "Title = 'Distribution  Plot of  Predicted Value Using Training Data vs Training Data Distribution'\n",
    "distributionplot(y_train, yhat_train, \"Actual Values (Train)\", \"Predicted Values (Train)\", Title)"
   ],
   "id": "b1b228b611647e70",
   "outputs": [],
   "execution_count": null
  },
  {
   "metadata": {},
   "cell_type": "code",
   "source": [
    "Title='Distribution  Plot of  Predicted Value Using Test Data vs Data Distribution of Test Data'\n",
    "distributionplot(y_test,yhat_test,\"Actual Values (Test)\",\"Predicted Values (Test)\",Title)"
   ],
   "id": "3124bf77ba639a01",
   "outputs": [],
   "execution_count": null
  },
  {
   "metadata": {},
   "cell_type": "code",
   "source": [
    "from sklearn.preprocessing import PolynomialFeatures\n",
    "\n",
    "x_train, x_test, y_train, y_test = train_test_split(x_data, y_data, test_size=0.45, random_state=0)\n",
    "\n",
    "pr = PolynomialFeatures(degree=5)\n",
    "x_train_pr = pr.fit_transform(x_train[['horsepower']])\n",
    "x_test_pr = pr.fit_transform(x_test[['horsepower']])\n",
    "pr"
   ],
   "id": "b2a73537c519c31",
   "outputs": [],
   "execution_count": null
  },
  {
   "metadata": {},
   "cell_type": "code",
   "source": [
    "poly = LinearRegression()\n",
    "poly.fit(x_train_pr, y_train)"
   ],
   "id": "d7bb8b9551fe8472",
   "outputs": [],
   "execution_count": null
  },
  {
   "metadata": {},
   "cell_type": "code",
   "source": [
    "yhat = poly.predict(x_test_pr)\n",
    "yhat[0:5]"
   ],
   "id": "973b4a8a941961c1",
   "outputs": [],
   "execution_count": null
  },
  {
   "metadata": {},
   "cell_type": "code",
   "source": [
    "print(\"Predicted values:\", yhat[0:4])\n",
    "print(\"True values:\", y_test[0:4].values)"
   ],
   "id": "369620503ee6ffd7",
   "outputs": [],
   "execution_count": null
  },
  {
   "metadata": {},
   "cell_type": "code",
   "source": "pollyplot(x_train['horsepower'], x_test['horsepower'], y_train, y_test, poly,pr)",
   "id": "b1c958a21bad7b4b",
   "outputs": [],
   "execution_count": null
  },
  {
   "metadata": {},
   "cell_type": "code",
   "source": "poly.score(x_train_pr, y_train)",
   "id": "f0a08b8fef691982",
   "outputs": [],
   "execution_count": null
  },
  {
   "metadata": {},
   "cell_type": "code",
   "source": "poly.score(x_test_pr, y_test)",
   "id": "3459f9a4971df4ba",
   "outputs": [],
   "execution_count": null
  },
  {
   "metadata": {},
   "cell_type": "code",
   "source": [
    "rsqu_test = []\n",
    "\n",
    "order = [1, 2, 3, 4]\n",
    "for n in order:\n",
    "    pr = PolynomialFeatures(degree=n)\n",
    "\n",
    "    x_train_pr = pr.fit_transform(x_train[['horsepower']])\n",
    "\n",
    "    x_test_pr = pr.fit_transform(x_test[['horsepower']])\n",
    "\n",
    "    lr.fit(x_train_pr, y_train)\n",
    "\n",
    "    rsqu_test.append(lr.score(x_test_pr, y_test))\n",
    "\n",
    "plt.plot(order, rsqu_test)\n",
    "plt.xlabel('order')\n",
    "plt.ylabel('R^2')\n",
    "plt.title('R^2 Using Test Data')\n",
    "plt.text(3, 0.75, 'Maximum R^2 ')"
   ],
   "id": "59eb84ef8187a136",
   "outputs": [],
   "execution_count": null
  },
  {
   "metadata": {},
   "cell_type": "code",
   "source": "interact(f, order=(0, 6, 1), test_data=(0.05, 0.95, 0.05))",
   "id": "ec38554722234d68",
   "outputs": [],
   "execution_count": null
  },
  {
   "metadata": {},
   "cell_type": "code",
   "source": [
    "# question 4a) We can perform polynomial transformations with more than one feature. Create a \"PolynomialFeatures\" object \"pr1\" of degree two.\n",
    "pr1 = PolynomialFeatures(degree=2)\n",
    "\n",
    "# question 4b) Transform the training and testing samples for the features 'horsepower', 'curb-weight', 'engine-size' and 'highway-mpg'. Hint: use the method \"fit_transform\"\n",
    "x_train_pr1 = pr1.fit_transform(x_train[['horsepower', 'curb-weight', 'engine-size', 'highway-mpg']])\n",
    "x_test_pr1 = pr1.fit_transform(x_test[['horsepower', 'curb-weight', 'engine-size', 'highway-mpg']])\n",
    "\n",
    "# question 4c) How many dimensions does the new feature have? Hint: use the attribute \"shape\".\n",
    "print(x_train_pr1.shape)\n",
    "\n",
    "# question 4d) Create a linear regression model \"poly1\". Train the object using the method \"fit\" using the polynomial features.\n",
    "poly1 = LinearRegression()\n",
    "poly1.fit(x_train_pr1, y_train)\n",
    "\n",
    "# question 4e) Use the method \"predict\" to predict an output on the polynomial features, then use the function \"distributionplot\" to display the distribution of the predicted test output vs. the actual test data.\n",
    "yhat_test = poly1.predict(x_test_pr1)\n",
    "Title = 'Distribution  Plot of  Predicted Value Using Training Data vs Training Data Distribution'\n",
    "distributionplot(y_test, yhat_test, \"Actual Values (Train)\", \"Predicted Values (Train)\", Title)\n",
    "\n",
    "# question 4f) Using the distribution plot above, describe (in words) the two regions where the predicted prices are less accurate than the actual prices.\n",
    "# Around the 5-15000 dollar range the prediction is less accurate because there are quite a bit more cars predicted than actual and\n",
    "# around the 30-40000 dollar range the prediction is less inaccurate because there are quite a few less cars predicted than actual"
   ],
   "id": "e435b9f0d998042b",
   "outputs": [],
   "execution_count": null
  },
  {
   "metadata": {},
   "cell_type": "code",
   "source": [
    "pr = PolynomialFeatures(degree=2)\n",
    "x_train_pr = pr.fit_transform(x_train[['horsepower', 'curb-weight', 'engine-size', 'highway-mpg','normalized-losses','symboling']])\n",
    "x_test_pr = pr.fit_transform(x_test[['horsepower', 'curb-weight', 'engine-size', 'highway-mpg','normalized-losses','symboling']])"
   ],
   "id": "40f4ee7b0d43f489",
   "outputs": [],
   "execution_count": null
  },
  {
   "metadata": {},
   "cell_type": "code",
   "source": "from sklearn.linear_model import Ridge",
   "id": "86d8ad6c0cfab7ca",
   "outputs": [],
   "execution_count": null
  },
  {
   "metadata": {},
   "cell_type": "code",
   "source": [
    "RidgeModel = Ridge(alpha=1)\n",
    "RidgeModel.fit(x_train_pr, y_train)\n",
    "yhat = RidgeModel.predict(x_test_pr)\n",
    "print('predicted:', yhat[0:4])\n",
    "print('test set:', y_test[0:4].values)"
   ],
   "id": "29bac0343dd40fa8",
   "outputs": [],
   "execution_count": null
  },
  {
   "metadata": {},
   "cell_type": "code",
   "source": [
    "from tqdm import tqdm\n",
    "\n",
    "rsqu_test = []\n",
    "rsqu_train = []\n",
    "dummy1 = []\n",
    "alpha = 10 * np.array(range(0,1000))\n",
    "pbar = tqdm(alpha)\n",
    "\n",
    "for v in pbar:\n",
    "    RidgeModel = Ridge(alpha=v)\n",
    "    RidgeModel.fit(x_train_pr, y_train)\n",
    "    test_score, train_score = RidgeModel.score(x_test_pr, y_test), RidgeModel.score(x_train_pr, y_train)\n",
    "\n",
    "    pbar.set_postfix({\"Test Score\": test_score, \"Train Score\": train_score})\n",
    "\n",
    "    rsqu_test.append(test_score)\n",
    "    rsqu_train.append(train_score)"
   ],
   "id": "ab5cfd02069ac2",
   "outputs": [],
   "execution_count": null
  },
  {
   "metadata": {},
   "cell_type": "code",
   "source": [
    "width = 12\n",
    "height = 10\n",
    "plt.figure(figsize=(width, height))\n",
    "\n",
    "plt.plot(alpha,rsqu_test, label='validation data  ')\n",
    "plt.plot(alpha,rsqu_train, 'r', label='training Data ')\n",
    "plt.xlabel('alpha')\n",
    "plt.ylabel('R^2')\n",
    "plt.legend()"
   ],
   "id": "d6ed1e7142cd44e7",
   "outputs": [],
   "execution_count": null
  },
  {
   "metadata": {},
   "cell_type": "code",
   "source": [
    "# question 5) Perform Ridge regression. >> Calculate << the R^2 using the polynomial features, use the training data to\n",
    "# train the model and use the test data to test the model. The parameter alpha should be set to 10.\n",
    "rr = Ridge(alpha=10)\n",
    "rr.fit(x_train_pr, y_train)\n",
    "rr.score(x_test_pr, y_test)"
   ],
   "id": "796420acc8d4deb5",
   "outputs": [],
   "execution_count": null
  },
  {
   "metadata": {},
   "cell_type": "code",
   "source": [
    "from sklearn.model_selection import GridSearchCV\n",
    "\n",
    "# parameters = [{'alpha': [0.001,0.1,1, 10, 100, 1000, 10000, 100000, 100000]}]\n",
    "\n",
    "# question 6) Perform a grid search for the alpha parameter and the normalization\n",
    "# parameter, then find the best values of the parameters:\n",
    "parameterse = [{'alpha': [0.001,0.1,1, 10, 100, 1000, 10000, 100000, 100000], 'normalize': [True, False]}]\n",
    "\n",
    "rr = Ridge()\n",
    "grd = GridSearchCV(rr, parameterse, cv=4)\n",
    "grd.fit(x_data[['horsepower', 'curb-weight', 'engine-size', 'highway-mpg']], y_data)\n",
    "bestrr = grd.best_estimator_\n",
    "print(bestrr)\n",
    "bestrr.score(x_test[['horsepower', 'curb-weight', 'engine-size', 'highway-mpg']], y_test)"
   ],
   "id": "8ea388f31a9ec857",
   "outputs": [],
   "execution_count": null
  }
 ],
 "metadata": {
  "kernelspec": {
   "display_name": "Python 3",
   "language": "python",
   "name": "python3"
  },
  "language_info": {
   "codemirror_mode": {
    "name": "ipython",
    "version": 2
   },
   "file_extension": ".py",
   "mimetype": "text/x-python",
   "name": "python",
   "nbconvert_exporter": "python",
   "pygments_lexer": "ipython2",
   "version": "2.7.6"
  }
 },
 "nbformat": 4,
 "nbformat_minor": 5
}
