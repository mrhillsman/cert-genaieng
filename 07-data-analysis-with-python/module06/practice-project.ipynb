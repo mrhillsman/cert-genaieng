{
 "cells": [
  {
   "metadata": {},
   "cell_type": "markdown",
   "source": [
    "# **Practice Project: Insurance Cost Analysis**\n",
    "\n",
    "Estimated time needed: **75** minutes\n",
    "\n",
    "In this project, you have to perform analytics operations on an insurance database that uses the below mentioned parameters.\n",
    "\n",
    "| Parameter |Description| Content type |\n",
    "|---|----|---|\n",
    "|age| Age in years| integer |\n",
    "|gender| Male or Female|integer (1 or 2)|\n",
    "| bmi | Body mass index | float |\n",
    "|no_of_children| Number of children | integer|\n",
    "|smoker| Whether smoker or not | integer (0 or 1)|\n",
    "|region| Which US region - NW, NE, SW, SE | integer (1,2,3 or 4 respectively)|\n",
    "|charges| Annual Insurance charges in USD | float|\n",
    "\n",
    "## Objectives\n",
    "In this project, you will:\n",
    " - Load the data as a `pandas` dataframe\n",
    " - Clean the data, taking care of the blank entries\n",
    " - Run exploratory data analysis (EDA) and identify the attributes that most affect the `charges`\n",
    " - Develop single variable and multi variable Linear Regression models for predicting the `charges`\n",
    " - Use Ridge regression to refine the performance of Linear regression models."
   ],
   "id": "6e794c9b20b81061"
  },
  {
   "metadata": {},
   "cell_type": "code",
   "source": [
    "from cProfile import label\n",
    "\n",
    "from flatbuffers.packer import int64\n",
    "\n",
    "\"\"\" Import libraries and download dataset \"\"\"\n",
    "import pandas as pd\n",
    "import numpy as np\n",
    "import matplotlib.pyplot as plt\n",
    "import seaborn as sbn\n",
    "import sklearn as sk\n",
    "\n",
    "HEADERS = ['age', 'gender', 'bmi', 'no_of_children', 'smoker', 'region', 'charges']\n",
    "\n",
    "filepath = 'https://cf-courses-data.s3.us.cloud-object-storage.appdomain.cloud/IBMDeveloperSkillsNetwork-DA0101EN-Coursera/medical_insurance_dataset.csv'"
   ],
   "id": "72cc0e44187ea195",
   "outputs": [],
   "execution_count": null
  },
  {
   "metadata": {},
   "cell_type": "markdown",
   "source": [
    "# Task 1 : Import the dataset\n",
    "\n",
    "Import the dataset into a `pandas` dataframe. Note that there are currently no headers in the CSV file.\n",
    "\n",
    "Print the first 10 rows of the dataframe to confirm successful loading."
   ],
   "id": "8c26338706d51515"
  },
  {
   "metadata": {},
   "cell_type": "code",
   "source": [
    "df = pd.read_csv(filepath, header=None)\n",
    "df.head(10)"
   ],
   "id": "4eab12bd7b78e8af",
   "outputs": [],
   "execution_count": null
  },
  {
   "metadata": {},
   "cell_type": "code",
   "source": [
    "df.columns = HEADERS\n",
    "df.head()"
   ],
   "id": "14b9b1fd241f5814",
   "outputs": [],
   "execution_count": null
  },
  {
   "metadata": {},
   "cell_type": "code",
   "source": "df.replace('?', np.nan, inplace=True)",
   "id": "36790de946198191",
   "outputs": [],
   "execution_count": null
  },
  {
   "metadata": {},
   "cell_type": "code",
   "source": "df.info()",
   "id": "3c264b9413e89a8b",
   "outputs": [],
   "execution_count": null
  },
  {
   "metadata": {},
   "cell_type": "code",
   "source": [
    "average_age = df['age'].astype('float64').mean(axis=0)\n",
    "df['age'].replace(np.nan, average_age, inplace=True)"
   ],
   "id": "7352eeac5340d895",
   "outputs": [],
   "execution_count": null
  },
  {
   "metadata": {},
   "cell_type": "code",
   "source": [
    "most_smoker = df['smoker'].value_counts().idxmax()\n",
    "df['smoker'].replace(np.nan, most_smoker, inplace=True)"
   ],
   "id": "3a215cd4a5833cd3",
   "outputs": [],
   "execution_count": null
  },
  {
   "metadata": {},
   "cell_type": "code",
   "source": [
    "df['age'] = df['age'].astype('float64')\n",
    "df['smoker'] = df['smoker'].astype('int64')"
   ],
   "id": "668b429b7eac5269",
   "outputs": [],
   "execution_count": null
  },
  {
   "metadata": {},
   "cell_type": "code",
   "source": [
    "df['charges'] = np.round(df['charges'], 2)\n",
    "df['charges'].head()"
   ],
   "id": "fc26b021c106652e",
   "outputs": [],
   "execution_count": null
  },
  {
   "metadata": {},
   "cell_type": "code",
   "source": [
    "sbn.regplot(x='bmi', y='charges', data=df, line_kws=dict(color=\"r\"))\n",
    "plt.ylim(0,)\n",
    "plt.show()"
   ],
   "id": "5d1ccbf7acf0e5f",
   "outputs": [],
   "execution_count": null
  },
  {
   "metadata": {},
   "cell_type": "code",
   "source": "sbn.boxplot(x='smoker', y='charges', data=df)",
   "id": "8b461713f236189a",
   "outputs": [],
   "execution_count": null
  },
  {
   "metadata": {},
   "cell_type": "code",
   "source": "df.corr()",
   "id": "353fd11dc8ffbd21",
   "outputs": [],
   "execution_count": null
  },
  {
   "metadata": {
    "ExecuteTime": {
     "end_time": "2025-01-30T02:42:45.410261Z",
     "start_time": "2025-01-30T02:42:45.388353Z"
    }
   },
   "cell_type": "code",
   "source": [
    "lr = sk.linear_model.LinearRegression()\n",
    "X = df[['smoker']]\n",
    "Y = df[['charges']]\n",
    "Z = df.drop(['charges'], axis=1)\n",
    "lr.fit(X, Y)\n",
    "lr.score(X, Y)\n",
    "lr.fit(Z, Y)\n",
    "lr.score(Z, Y)"
   ],
   "id": "4565cc2371eaf1ff",
   "outputs": [
    {
     "data": {
      "text/plain": [
       "0.7505867314418195"
      ]
     },
     "execution_count": 105,
     "metadata": {},
     "output_type": "execute_result"
    }
   ],
   "execution_count": 105
  },
  {
   "metadata": {
    "ExecuteTime": {
     "end_time": "2025-01-30T02:48:00.180618Z",
     "start_time": "2025-01-30T02:48:00.153967Z"
    }
   },
   "cell_type": "code",
   "source": [
    "from sklearn.metrics import r2_score\n",
    "from sklearn.preprocessing import PolynomialFeatures, StandardScaler\n",
    "from sklearn.linear_model import LinearRegression\n",
    "from sklearn.pipeline import Pipeline\n",
    "\n",
    "Input = [('polynomial', PolynomialFeatures(degree=2)),('scale', StandardScaler()),('Model', LinearRegression())]\n",
    "pipe = Pipeline(Input)\n",
    "Z = Z.astype('float64')\n",
    "pipe.fit(Z, Y)\n",
    "yhat = pipe.predict(Z)\n",
    "r2_score(Y, yhat)"
   ],
   "id": "3c42693967717c63",
   "outputs": [
    {
     "data": {
      "text/plain": [
       "0.8453700268104134"
      ]
     },
     "execution_count": 109,
     "metadata": {},
     "output_type": "execute_result"
    }
   ],
   "execution_count": 109
  },
  {
   "metadata": {
    "ExecuteTime": {
     "end_time": "2025-01-30T02:49:29.266795Z",
     "start_time": "2025-01-30T02:49:29.264059Z"
    }
   },
   "cell_type": "code",
   "source": "x_train, x_test, y_train, y_test = sk.model_selection.train_test_split(Z, Y, test_size=0.2, random_state=1)",
   "id": "cf79fdd66271ad71",
   "outputs": [],
   "execution_count": 113
  },
  {
   "metadata": {
    "ExecuteTime": {
     "end_time": "2025-01-30T02:52:14.915764Z",
     "start_time": "2025-01-30T02:52:14.903396Z"
    }
   },
   "cell_type": "code",
   "source": [
    "from sklearn.linear_model import Ridge\n",
    "\n",
    "RidgeModel=Ridge(alpha=0.1)\n",
    "RidgeModel.fit(x_train, y_train)\n",
    "yhat = RidgeModel.predict(x_test)\n",
    "print(r2_score(y_test,yhat))"
   ],
   "id": "cfe5739cedd75199",
   "outputs": [
    {
     "name": "stdout",
     "output_type": "stream",
     "text": [
      "0.728592699726808\n"
     ]
    }
   ],
   "execution_count": 114
  },
  {
   "metadata": {
    "ExecuteTime": {
     "end_time": "2025-01-30T02:52:36.775275Z",
     "start_time": "2025-01-30T02:52:36.752693Z"
    }
   },
   "cell_type": "code",
   "source": [
    "pr = PolynomialFeatures(degree=2)\n",
    "x_train_pr = pr.fit_transform(x_train)\n",
    "x_test_pr = pr.fit_transform(x_test)\n",
    "RidgeModel.fit(x_train_pr, y_train)\n",
    "y_hat = RidgeModel.predict(x_test_pr)\n",
    "print(r2_score(y_test,y_hat))"
   ],
   "id": "20d0f2ce4b1a6573",
   "outputs": [
    {
     "name": "stdout",
     "output_type": "stream",
     "text": [
      "0.8259215315586219\n"
     ]
    }
   ],
   "execution_count": 115
  }
 ],
 "metadata": {
  "kernelspec": {
   "display_name": "Python 3",
   "language": "python",
   "name": "python3"
  },
  "language_info": {
   "codemirror_mode": {
    "name": "ipython",
    "version": 2
   },
   "file_extension": ".py",
   "mimetype": "text/x-python",
   "name": "python",
   "nbconvert_exporter": "python",
   "pygments_lexer": "ipython2",
   "version": "2.7.6"
  }
 },
 "nbformat": 4,
 "nbformat_minor": 5
}
