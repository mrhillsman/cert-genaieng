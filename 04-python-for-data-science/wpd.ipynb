{
 "cells": [
  {
   "cell_type": "code",
   "id": "initial_id",
   "metadata": {
    "collapsed": true,
    "ExecuteTime": {
     "end_time": "2025-01-13T06:04:13.548496Z",
     "start_time": "2025-01-13T06:04:13.304584Z"
    }
   },
   "source": [
    "import pandas as pd\n",
    "import numpy as np"
   ],
   "outputs": [],
   "execution_count": 1
  },
  {
   "metadata": {
    "ExecuteTime": {
     "end_time": "2025-01-13T07:37:42.029278Z",
     "start_time": "2025-01-13T07:37:42.009608Z"
    }
   },
   "cell_type": "code",
   "source": [
    "df = pd.read_csv(\"cancer_issue.csv\")\n",
    "df.head()"
   ],
   "id": "715b6f05b8590ae4",
   "outputs": [
    {
     "data": {
      "text/plain": [
       "   PatientID  Age  Gender Race/Ethnicity   BMI  SmokingStatus FamilyHistory  \\\n",
       "0          1   80  Female          Other  23.3         Smoker           Yes   \n",
       "1          2   76    Male      Caucasian  22.4  Former Smoker           Yes   \n",
       "2          3   69    Male          Asian  21.5         Smoker           Yes   \n",
       "3          4   77    Male          Asian  30.4  Former Smoker           Yes   \n",
       "4          5   89    Male      Caucasian  20.9         Smoker           Yes   \n",
       "\n",
       "  CancerType Stage  TumorSize        TreatmentType   TreatmentResponse  \\\n",
       "0     Breast    II        1.7  Combination Therapy         No Response   \n",
       "1      Colon    IV        4.7              Surgery         No Response   \n",
       "2     Breast   III        8.3  Combination Therapy  Complete Remission   \n",
       "3   Prostate    II        1.7            Radiation   Partial Remission   \n",
       "4       Lung    IV        7.4            Radiation         No Response   \n",
       "\n",
       "   SurvivalMonths Recurrence GeneticMarker HospitalRegion  \n",
       "0             103        Yes           NaN          South  \n",
       "1              14        Yes         BRCA1           West  \n",
       "2              61        Yes         BRCA1           West  \n",
       "3              64         No          KRAS          South  \n",
       "4              82        Yes          KRAS          South  "
      ],
      "text/html": [
       "<div>\n",
       "<style scoped>\n",
       "    .dataframe tbody tr th:only-of-type {\n",
       "        vertical-align: middle;\n",
       "    }\n",
       "\n",
       "    .dataframe tbody tr th {\n",
       "        vertical-align: top;\n",
       "    }\n",
       "\n",
       "    .dataframe thead th {\n",
       "        text-align: right;\n",
       "    }\n",
       "</style>\n",
       "<table border=\"1\" class=\"dataframe\">\n",
       "  <thead>\n",
       "    <tr style=\"text-align: right;\">\n",
       "      <th></th>\n",
       "      <th>PatientID</th>\n",
       "      <th>Age</th>\n",
       "      <th>Gender</th>\n",
       "      <th>Race/Ethnicity</th>\n",
       "      <th>BMI</th>\n",
       "      <th>SmokingStatus</th>\n",
       "      <th>FamilyHistory</th>\n",
       "      <th>CancerType</th>\n",
       "      <th>Stage</th>\n",
       "      <th>TumorSize</th>\n",
       "      <th>TreatmentType</th>\n",
       "      <th>TreatmentResponse</th>\n",
       "      <th>SurvivalMonths</th>\n",
       "      <th>Recurrence</th>\n",
       "      <th>GeneticMarker</th>\n",
       "      <th>HospitalRegion</th>\n",
       "    </tr>\n",
       "  </thead>\n",
       "  <tbody>\n",
       "    <tr>\n",
       "      <th>0</th>\n",
       "      <td>1</td>\n",
       "      <td>80</td>\n",
       "      <td>Female</td>\n",
       "      <td>Other</td>\n",
       "      <td>23.3</td>\n",
       "      <td>Smoker</td>\n",
       "      <td>Yes</td>\n",
       "      <td>Breast</td>\n",
       "      <td>II</td>\n",
       "      <td>1.7</td>\n",
       "      <td>Combination Therapy</td>\n",
       "      <td>No Response</td>\n",
       "      <td>103</td>\n",
       "      <td>Yes</td>\n",
       "      <td>NaN</td>\n",
       "      <td>South</td>\n",
       "    </tr>\n",
       "    <tr>\n",
       "      <th>1</th>\n",
       "      <td>2</td>\n",
       "      <td>76</td>\n",
       "      <td>Male</td>\n",
       "      <td>Caucasian</td>\n",
       "      <td>22.4</td>\n",
       "      <td>Former Smoker</td>\n",
       "      <td>Yes</td>\n",
       "      <td>Colon</td>\n",
       "      <td>IV</td>\n",
       "      <td>4.7</td>\n",
       "      <td>Surgery</td>\n",
       "      <td>No Response</td>\n",
       "      <td>14</td>\n",
       "      <td>Yes</td>\n",
       "      <td>BRCA1</td>\n",
       "      <td>West</td>\n",
       "    </tr>\n",
       "    <tr>\n",
       "      <th>2</th>\n",
       "      <td>3</td>\n",
       "      <td>69</td>\n",
       "      <td>Male</td>\n",
       "      <td>Asian</td>\n",
       "      <td>21.5</td>\n",
       "      <td>Smoker</td>\n",
       "      <td>Yes</td>\n",
       "      <td>Breast</td>\n",
       "      <td>III</td>\n",
       "      <td>8.3</td>\n",
       "      <td>Combination Therapy</td>\n",
       "      <td>Complete Remission</td>\n",
       "      <td>61</td>\n",
       "      <td>Yes</td>\n",
       "      <td>BRCA1</td>\n",
       "      <td>West</td>\n",
       "    </tr>\n",
       "    <tr>\n",
       "      <th>3</th>\n",
       "      <td>4</td>\n",
       "      <td>77</td>\n",
       "      <td>Male</td>\n",
       "      <td>Asian</td>\n",
       "      <td>30.4</td>\n",
       "      <td>Former Smoker</td>\n",
       "      <td>Yes</td>\n",
       "      <td>Prostate</td>\n",
       "      <td>II</td>\n",
       "      <td>1.7</td>\n",
       "      <td>Radiation</td>\n",
       "      <td>Partial Remission</td>\n",
       "      <td>64</td>\n",
       "      <td>No</td>\n",
       "      <td>KRAS</td>\n",
       "      <td>South</td>\n",
       "    </tr>\n",
       "    <tr>\n",
       "      <th>4</th>\n",
       "      <td>5</td>\n",
       "      <td>89</td>\n",
       "      <td>Male</td>\n",
       "      <td>Caucasian</td>\n",
       "      <td>20.9</td>\n",
       "      <td>Smoker</td>\n",
       "      <td>Yes</td>\n",
       "      <td>Lung</td>\n",
       "      <td>IV</td>\n",
       "      <td>7.4</td>\n",
       "      <td>Radiation</td>\n",
       "      <td>No Response</td>\n",
       "      <td>82</td>\n",
       "      <td>Yes</td>\n",
       "      <td>KRAS</td>\n",
       "      <td>South</td>\n",
       "    </tr>\n",
       "  </tbody>\n",
       "</table>\n",
       "</div>"
      ]
     },
     "execution_count": 25,
     "metadata": {},
     "output_type": "execute_result"
    }
   ],
   "execution_count": 25
  },
  {
   "metadata": {
    "ExecuteTime": {
     "end_time": "2025-01-13T07:38:23.330659Z",
     "start_time": "2025-01-13T07:38:23.326078Z"
    }
   },
   "cell_type": "code",
   "source": "df.iloc[0:2, 0:3]",
   "id": "3922ad1731c55ac1",
   "outputs": [
    {
     "data": {
      "text/plain": [
       "   PatientID  Age  Gender\n",
       "0          1   80  Female\n",
       "1          2   76    Male"
      ],
      "text/html": [
       "<div>\n",
       "<style scoped>\n",
       "    .dataframe tbody tr th:only-of-type {\n",
       "        vertical-align: middle;\n",
       "    }\n",
       "\n",
       "    .dataframe tbody tr th {\n",
       "        vertical-align: top;\n",
       "    }\n",
       "\n",
       "    .dataframe thead th {\n",
       "        text-align: right;\n",
       "    }\n",
       "</style>\n",
       "<table border=\"1\" class=\"dataframe\">\n",
       "  <thead>\n",
       "    <tr style=\"text-align: right;\">\n",
       "      <th></th>\n",
       "      <th>PatientID</th>\n",
       "      <th>Age</th>\n",
       "      <th>Gender</th>\n",
       "    </tr>\n",
       "  </thead>\n",
       "  <tbody>\n",
       "    <tr>\n",
       "      <th>0</th>\n",
       "      <td>1</td>\n",
       "      <td>80</td>\n",
       "      <td>Female</td>\n",
       "    </tr>\n",
       "    <tr>\n",
       "      <th>1</th>\n",
       "      <td>2</td>\n",
       "      <td>76</td>\n",
       "      <td>Male</td>\n",
       "    </tr>\n",
       "  </tbody>\n",
       "</table>\n",
       "</div>"
      ]
     },
     "execution_count": 28,
     "metadata": {},
     "output_type": "execute_result"
    }
   ],
   "execution_count": 28
  },
  {
   "metadata": {
    "ExecuteTime": {
     "end_time": "2025-01-13T07:38:44.982116Z",
     "start_time": "2025-01-13T07:38:44.977993Z"
    }
   },
   "cell_type": "code",
   "source": "df.loc[0:2, \"PatientID\":\"Race/Ethnicity\"]",
   "id": "e889e1bf3f930f34",
   "outputs": [
    {
     "data": {
      "text/plain": [
       "   PatientID  Age  Gender Race/Ethnicity\n",
       "0          1   80  Female          Other\n",
       "1          2   76    Male      Caucasian\n",
       "2          3   69    Male          Asian"
      ],
      "text/html": [
       "<div>\n",
       "<style scoped>\n",
       "    .dataframe tbody tr th:only-of-type {\n",
       "        vertical-align: middle;\n",
       "    }\n",
       "\n",
       "    .dataframe tbody tr th {\n",
       "        vertical-align: top;\n",
       "    }\n",
       "\n",
       "    .dataframe thead th {\n",
       "        text-align: right;\n",
       "    }\n",
       "</style>\n",
       "<table border=\"1\" class=\"dataframe\">\n",
       "  <thead>\n",
       "    <tr style=\"text-align: right;\">\n",
       "      <th></th>\n",
       "      <th>PatientID</th>\n",
       "      <th>Age</th>\n",
       "      <th>Gender</th>\n",
       "      <th>Race/Ethnicity</th>\n",
       "    </tr>\n",
       "  </thead>\n",
       "  <tbody>\n",
       "    <tr>\n",
       "      <th>0</th>\n",
       "      <td>1</td>\n",
       "      <td>80</td>\n",
       "      <td>Female</td>\n",
       "      <td>Other</td>\n",
       "    </tr>\n",
       "    <tr>\n",
       "      <th>1</th>\n",
       "      <td>2</td>\n",
       "      <td>76</td>\n",
       "      <td>Male</td>\n",
       "      <td>Caucasian</td>\n",
       "    </tr>\n",
       "    <tr>\n",
       "      <th>2</th>\n",
       "      <td>3</td>\n",
       "      <td>69</td>\n",
       "      <td>Male</td>\n",
       "      <td>Asian</td>\n",
       "    </tr>\n",
       "  </tbody>\n",
       "</table>\n",
       "</div>"
      ]
     },
     "execution_count": 29,
     "metadata": {},
     "output_type": "execute_result"
    }
   ],
   "execution_count": 29
  },
  {
   "metadata": {
    "ExecuteTime": {
     "end_time": "2025-01-13T07:39:46.869104Z",
     "start_time": "2025-01-13T07:39:46.865279Z"
    }
   },
   "cell_type": "code",
   "source": "df[\"Race/Ethnicity\"].unique()",
   "id": "f423d35b7950a45c",
   "outputs": [
    {
     "data": {
      "text/plain": [
       "array(['Other', 'Caucasian', 'Asian', 'Hispanic', 'African American'],\n",
       "      dtype=object)"
      ]
     },
     "execution_count": 32,
     "metadata": {},
     "output_type": "execute_result"
    }
   ],
   "execution_count": 32
  },
  {
   "metadata": {
    "ExecuteTime": {
     "end_time": "2025-01-13T07:42:24.716560Z",
     "start_time": "2025-01-13T07:42:24.709731Z"
    }
   },
   "cell_type": "code",
   "source": "df[df[\"Race/Ethnicity\"] == \"Other\"].head()",
   "id": "2158bb6804d0cd4a",
   "outputs": [
    {
     "data": {
      "text/plain": [
       "    PatientID  Age  Gender Race/Ethnicity   BMI SmokingStatus FamilyHistory  \\\n",
       "0           1   80  Female          Other  23.3        Smoker           Yes   \n",
       "15         16   63    Male          Other  34.7        Smoker           Yes   \n",
       "19         20   59  Female          Other  31.8    Non-Smoker           Yes   \n",
       "23         24   68  Female          Other  25.2        Smoker           Yes   \n",
       "29         30   70    Male          Other  29.9        Smoker           Yes   \n",
       "\n",
       "   CancerType Stage  TumorSize        TreatmentType   TreatmentResponse  \\\n",
       "0      Breast    II        1.7  Combination Therapy         No Response   \n",
       "15       Lung   III        4.4            Radiation   Partial Remission   \n",
       "19     Breast   III        6.1            Radiation         No Response   \n",
       "23       Skin    IV        2.6            Radiation   Partial Remission   \n",
       "29       Skin    IV        6.7         Chemotherapy  Complete Remission   \n",
       "\n",
       "    SurvivalMonths Recurrence GeneticMarker HospitalRegion  \n",
       "0              103        Yes           NaN          South  \n",
       "15               4        Yes           NaN          South  \n",
       "19             108         No           NaN          South  \n",
       "23             102         No          EGFR          North  \n",
       "29              51        Yes         BRCA1          North  "
      ],
      "text/html": [
       "<div>\n",
       "<style scoped>\n",
       "    .dataframe tbody tr th:only-of-type {\n",
       "        vertical-align: middle;\n",
       "    }\n",
       "\n",
       "    .dataframe tbody tr th {\n",
       "        vertical-align: top;\n",
       "    }\n",
       "\n",
       "    .dataframe thead th {\n",
       "        text-align: right;\n",
       "    }\n",
       "</style>\n",
       "<table border=\"1\" class=\"dataframe\">\n",
       "  <thead>\n",
       "    <tr style=\"text-align: right;\">\n",
       "      <th></th>\n",
       "      <th>PatientID</th>\n",
       "      <th>Age</th>\n",
       "      <th>Gender</th>\n",
       "      <th>Race/Ethnicity</th>\n",
       "      <th>BMI</th>\n",
       "      <th>SmokingStatus</th>\n",
       "      <th>FamilyHistory</th>\n",
       "      <th>CancerType</th>\n",
       "      <th>Stage</th>\n",
       "      <th>TumorSize</th>\n",
       "      <th>TreatmentType</th>\n",
       "      <th>TreatmentResponse</th>\n",
       "      <th>SurvivalMonths</th>\n",
       "      <th>Recurrence</th>\n",
       "      <th>GeneticMarker</th>\n",
       "      <th>HospitalRegion</th>\n",
       "    </tr>\n",
       "  </thead>\n",
       "  <tbody>\n",
       "    <tr>\n",
       "      <th>0</th>\n",
       "      <td>1</td>\n",
       "      <td>80</td>\n",
       "      <td>Female</td>\n",
       "      <td>Other</td>\n",
       "      <td>23.3</td>\n",
       "      <td>Smoker</td>\n",
       "      <td>Yes</td>\n",
       "      <td>Breast</td>\n",
       "      <td>II</td>\n",
       "      <td>1.7</td>\n",
       "      <td>Combination Therapy</td>\n",
       "      <td>No Response</td>\n",
       "      <td>103</td>\n",
       "      <td>Yes</td>\n",
       "      <td>NaN</td>\n",
       "      <td>South</td>\n",
       "    </tr>\n",
       "    <tr>\n",
       "      <th>15</th>\n",
       "      <td>16</td>\n",
       "      <td>63</td>\n",
       "      <td>Male</td>\n",
       "      <td>Other</td>\n",
       "      <td>34.7</td>\n",
       "      <td>Smoker</td>\n",
       "      <td>Yes</td>\n",
       "      <td>Lung</td>\n",
       "      <td>III</td>\n",
       "      <td>4.4</td>\n",
       "      <td>Radiation</td>\n",
       "      <td>Partial Remission</td>\n",
       "      <td>4</td>\n",
       "      <td>Yes</td>\n",
       "      <td>NaN</td>\n",
       "      <td>South</td>\n",
       "    </tr>\n",
       "    <tr>\n",
       "      <th>19</th>\n",
       "      <td>20</td>\n",
       "      <td>59</td>\n",
       "      <td>Female</td>\n",
       "      <td>Other</td>\n",
       "      <td>31.8</td>\n",
       "      <td>Non-Smoker</td>\n",
       "      <td>Yes</td>\n",
       "      <td>Breast</td>\n",
       "      <td>III</td>\n",
       "      <td>6.1</td>\n",
       "      <td>Radiation</td>\n",
       "      <td>No Response</td>\n",
       "      <td>108</td>\n",
       "      <td>No</td>\n",
       "      <td>NaN</td>\n",
       "      <td>South</td>\n",
       "    </tr>\n",
       "    <tr>\n",
       "      <th>23</th>\n",
       "      <td>24</td>\n",
       "      <td>68</td>\n",
       "      <td>Female</td>\n",
       "      <td>Other</td>\n",
       "      <td>25.2</td>\n",
       "      <td>Smoker</td>\n",
       "      <td>Yes</td>\n",
       "      <td>Skin</td>\n",
       "      <td>IV</td>\n",
       "      <td>2.6</td>\n",
       "      <td>Radiation</td>\n",
       "      <td>Partial Remission</td>\n",
       "      <td>102</td>\n",
       "      <td>No</td>\n",
       "      <td>EGFR</td>\n",
       "      <td>North</td>\n",
       "    </tr>\n",
       "    <tr>\n",
       "      <th>29</th>\n",
       "      <td>30</td>\n",
       "      <td>70</td>\n",
       "      <td>Male</td>\n",
       "      <td>Other</td>\n",
       "      <td>29.9</td>\n",
       "      <td>Smoker</td>\n",
       "      <td>Yes</td>\n",
       "      <td>Skin</td>\n",
       "      <td>IV</td>\n",
       "      <td>6.7</td>\n",
       "      <td>Chemotherapy</td>\n",
       "      <td>Complete Remission</td>\n",
       "      <td>51</td>\n",
       "      <td>Yes</td>\n",
       "      <td>BRCA1</td>\n",
       "      <td>North</td>\n",
       "    </tr>\n",
       "  </tbody>\n",
       "</table>\n",
       "</div>"
      ]
     },
     "execution_count": 39,
     "metadata": {},
     "output_type": "execute_result"
    }
   ],
   "execution_count": 39
  },
  {
   "metadata": {
    "ExecuteTime": {
     "end_time": "2025-01-13T07:45:24.173414Z",
     "start_time": "2025-01-13T07:45:24.169884Z"
    }
   },
   "cell_type": "code",
   "source": [
    "# Create a Series from a list\n",
    "data = [10, 20, 30, 40, 50]\n",
    "s = pd.Series(data)\n",
    "s.apply(lambda x: x//2)"
   ],
   "id": "40407d5afe198297",
   "outputs": [
    {
     "data": {
      "text/plain": [
       "0     5\n",
       "1    10\n",
       "2    15\n",
       "3    20\n",
       "4    25\n",
       "dtype: int64"
      ]
     },
     "execution_count": 46,
     "metadata": {},
     "output_type": "execute_result"
    }
   ],
   "execution_count": 46
  },
  {
   "metadata": {
    "ExecuteTime": {
     "end_time": "2025-01-13T08:27:23.211567Z",
     "start_time": "2025-01-13T08:27:23.209142Z"
    }
   },
   "cell_type": "code",
   "source": [
    "u = [1, 0]\n",
    "v = [0, 1]\n",
    "z = []\n",
    "for n, m in zip(u, v):\n",
    "    z.append(n + m)\n",
    "z"
   ],
   "id": "d8d949190fae0a00",
   "outputs": [
    {
     "data": {
      "text/plain": [
       "[1, 1]"
      ]
     },
     "execution_count": 47,
     "metadata": {},
     "output_type": "execute_result"
    }
   ],
   "execution_count": 47
  },
  {
   "metadata": {
    "ExecuteTime": {
     "end_time": "2025-01-13T08:27:47.827850Z",
     "start_time": "2025-01-13T08:27:47.825620Z"
    }
   },
   "cell_type": "code",
   "source": [
    "u = np.array([1, 0])\n",
    "v = np.array([0, 1])\n",
    "z = u + v\n",
    "z"
   ],
   "id": "f1891c68bc048309",
   "outputs": [
    {
     "data": {
      "text/plain": [
       "array([1, 1])"
      ]
     },
     "execution_count": 48,
     "metadata": {},
     "output_type": "execute_result"
    }
   ],
   "execution_count": 48
  },
  {
   "metadata": {
    "ExecuteTime": {
     "end_time": "2025-01-13T08:29:08.154759Z",
     "start_time": "2025-01-13T08:29:08.152124Z"
    }
   },
   "cell_type": "code",
   "source": [
    "y = np.array([1, 2])\n",
    "z = 2 * y\n",
    "z"
   ],
   "id": "d1e84bde23e6a00",
   "outputs": [
    {
     "data": {
      "text/plain": [
       "array([2, 4])"
      ]
     },
     "execution_count": 50,
     "metadata": {},
     "output_type": "execute_result"
    }
   ],
   "execution_count": 50
  },
  {
   "metadata": {
    "ExecuteTime": {
     "end_time": "2025-01-13T08:42:13.500488Z",
     "start_time": "2025-01-13T08:42:13.447419Z"
    }
   },
   "cell_type": "code",
   "source": [
    "x = np.linspace(0, 2*np.pi, 100)\n",
    "y = np.sin(x)\n",
    "\n",
    "import matplotlib.pyplot as plt\n",
    "%matplotlib inline\n",
    "\n",
    "plt.plot(x, y)"
   ],
   "id": "d422aa4901d29a42",
   "outputs": [
    {
     "data": {
      "text/plain": [
       "[<matplotlib.lines.Line2D at 0x7fbd825fb2c0>]"
      ]
     },
     "execution_count": 53,
     "metadata": {},
     "output_type": "execute_result"
    },
    {
     "data": {
      "text/plain": [
       "<Figure size 640x480 with 1 Axes>"
      ],
      "image/png": "[encoded data removed]"
     },
     "metadata": {},
     "output_type": "display_data"
    }
   ],
   "execution_count": 53
  },
  {
   "metadata": {
    "ExecuteTime": {
     "end_time": "2025-01-13T09:03:27.100827Z",
     "start_time": "2025-01-13T09:03:27.098088Z"
    }
   },
   "cell_type": "code",
   "source": [
    "a=np.array([-1,1])\n",
    "\n",
    "b=np.array([1,1])\n",
    "\n",
    "np.dot(a,b)"
   ],
   "id": "f3eb3d7541506575",
   "outputs": [
    {
     "data": {
      "text/plain": [
       "np.int64(0)"
      ]
     },
     "execution_count": 54,
     "metadata": {},
     "output_type": "execute_result"
    }
   ],
   "execution_count": 54
  },
  {
   "metadata": {
    "ExecuteTime": {
     "end_time": "2025-01-13T09:03:55.354745Z",
     "start_time": "2025-01-13T09:03:55.352317Z"
    }
   },
   "cell_type": "code",
   "source": [
    "X=np.array([[1,0],[0,1]])\n",
    "\n",
    "Y=np.array([[0,1],[1,0]])\n",
    "\n",
    "Z=X+Y\n",
    "Z"
   ],
   "id": "7d5effa71ae2b83",
   "outputs": [
    {
     "data": {
      "text/plain": [
       "array([[1, 1],\n",
       "       [1, 1]])"
      ]
     },
     "execution_count": 56,
     "metadata": {},
     "output_type": "execute_result"
    }
   ],
   "execution_count": 56
  },
  {
   "metadata": {
    "ExecuteTime": {
     "end_time": "2025-01-13T09:04:32.431708Z",
     "start_time": "2025-01-13T09:04:32.429318Z"
    }
   },
   "cell_type": "code",
   "source": [
    "X=np.array([[1,0,1],[2,2,2]])\n",
    "\n",
    "out=X[0:2,2]\n",
    "out"
   ],
   "id": "8eeb4516b229a903",
   "outputs": [
    {
     "data": {
      "text/plain": [
       "array([1, 2])"
      ]
     },
     "execution_count": 58,
     "metadata": {},
     "output_type": "execute_result"
    }
   ],
   "execution_count": 58
  },
  {
   "metadata": {
    "ExecuteTime": {
     "end_time": "2025-01-13T09:04:51.666375Z",
     "start_time": "2025-01-13T09:04:51.663676Z"
    }
   },
   "cell_type": "code",
   "source": [
    "X=np.array([[1,0],[0,1]])\n",
    "\n",
    "Y=np.array([[2,2],[2,2]])\n",
    "\n",
    "Z=np.dot(X,Y)\n",
    "Z"
   ],
   "id": "b697e04802fea744",
   "outputs": [
    {
     "data": {
      "text/plain": [
       "array([[2, 2],\n",
       "       [2, 2]])"
      ]
     },
     "execution_count": 59,
     "metadata": {},
     "output_type": "execute_result"
    }
   ],
   "execution_count": 59
  },
  {
   "metadata": {
    "ExecuteTime": {
     "end_time": "2025-01-13T09:34:19.921462Z",
     "start_time": "2025-01-13T09:34:19.753233Z"
    }
   },
   "cell_type": "code",
   "source": [
    "import pandas as pd\n",
    "URL = 'https://en.wikipedia.org/wiki/List_of_largest_banks'\n",
    "tables = pd.read_html(URL)\n",
    "print(len(tables))\n",
    "df = tables[0]\n",
    "df.head()"
   ],
   "id": "4ad0b1adb786c654",
   "outputs": [
    {
     "name": "stdout",
     "output_type": "stream",
     "text": [
      "3\n"
     ]
    },
    {
     "data": {
      "text/plain": [
       "   Rank                                Bank name  \\\n",
       "0     1  Industrial and Commercial Bank of China   \n",
       "1     2               Agricultural Bank of China   \n",
       "2     3                  China Construction Bank   \n",
       "3     4                            Bank of China   \n",
       "4     5                           JPMorgan Chase   \n",
       "\n",
       "   Total assets (2023) (US$ billion)  \n",
       "0                            6303.44  \n",
       "1                            5623.12  \n",
       "2                            5400.28  \n",
       "3                            4578.28  \n",
       "4                            3875.39  "
      ],
      "text/html": [
       "<div>\n",
       "<style scoped>\n",
       "    .dataframe tbody tr th:only-of-type {\n",
       "        vertical-align: middle;\n",
       "    }\n",
       "\n",
       "    .dataframe tbody tr th {\n",
       "        vertical-align: top;\n",
       "    }\n",
       "\n",
       "    .dataframe thead th {\n",
       "        text-align: right;\n",
       "    }\n",
       "</style>\n",
       "<table border=\"1\" class=\"dataframe\">\n",
       "  <thead>\n",
       "    <tr style=\"text-align: right;\">\n",
       "      <th></th>\n",
       "      <th>Rank</th>\n",
       "      <th>Bank name</th>\n",
       "      <th>Total assets (2023) (US$ billion)</th>\n",
       "    </tr>\n",
       "  </thead>\n",
       "  <tbody>\n",
       "    <tr>\n",
       "      <th>0</th>\n",
       "      <td>1</td>\n",
       "      <td>Industrial and Commercial Bank of China</td>\n",
       "      <td>6303.44</td>\n",
       "    </tr>\n",
       "    <tr>\n",
       "      <th>1</th>\n",
       "      <td>2</td>\n",
       "      <td>Agricultural Bank of China</td>\n",
       "      <td>5623.12</td>\n",
       "    </tr>\n",
       "    <tr>\n",
       "      <th>2</th>\n",
       "      <td>3</td>\n",
       "      <td>China Construction Bank</td>\n",
       "      <td>5400.28</td>\n",
       "    </tr>\n",
       "    <tr>\n",
       "      <th>3</th>\n",
       "      <td>4</td>\n",
       "      <td>Bank of China</td>\n",
       "      <td>4578.28</td>\n",
       "    </tr>\n",
       "    <tr>\n",
       "      <th>4</th>\n",
       "      <td>5</td>\n",
       "      <td>JPMorgan Chase</td>\n",
       "      <td>3875.39</td>\n",
       "    </tr>\n",
       "  </tbody>\n",
       "</table>\n",
       "</div>"
      ]
     },
     "execution_count": 63,
     "metadata": {},
     "output_type": "execute_result"
    }
   ],
   "execution_count": 63
  },
  {
   "metadata": {
    "ExecuteTime": {
     "end_time": "2025-01-13T09:47:39.016962Z",
     "start_time": "2025-01-13T09:47:39.014947Z"
    }
   },
   "cell_type": "code",
   "source": "10//1.3",
   "id": "c98cf8bb835abd9f",
   "outputs": [
    {
     "data": {
      "text/plain": [
       "7.0"
      ]
     },
     "execution_count": 80,
     "metadata": {},
     "output_type": "execute_result"
    }
   ],
   "execution_count": 80
  },
  {
   "metadata": {
    "ExecuteTime": {
     "end_time": "2025-01-13T09:50:31.011423Z",
     "start_time": "2025-01-13T09:50:31.009301Z"
    }
   },
   "cell_type": "code",
   "source": [
    "for i in range(1,5):\n",
    "      if i!=2:\n",
    "          print(i)"
   ],
   "id": "93e267abf64dad3e",
   "outputs": [
    {
     "name": "stdout",
     "output_type": "stream",
     "text": [
      "1\n",
      "3\n",
      "4\n"
     ]
    }
   ],
   "execution_count": 81
  },
  {
   "metadata": {
    "ExecuteTime": {
     "end_time": "2025-01-13T09:52:51.833220Z",
     "start_time": "2025-01-13T09:52:51.830767Z"
    }
   },
   "cell_type": "code",
   "source": [
    "import numpy as np\n",
    "\n",
    "a=np.array([0,1,0,1,0])\n",
    "b=np.array([1,0,1,0,1])\n",
    "print(a-b)\n",
    "\n",
    "a=np.array([0,1,0,1,0])\n",
    "b=np.array([1,0,1,0,1])\n",
    "print(a*b)\n",
    "\n",
    "#a=np.array([0,1,0,1,0])\n",
    "#b=np.array([1,0,1,0,1])\n",
    "#print(a/b)\n",
    "\n",
    "a=np.array([0,1,0,1,0])\n",
    "b=np.array([1,0,1,0,1])\n",
    "print(a+b)"
   ],
   "id": "6bc69a0ee5feedea",
   "outputs": [
    {
     "name": "stdout",
     "output_type": "stream",
     "text": [
      "[-1  1 -1  1 -1]\n",
      "[0 0 0 0 0]\n",
      "[1 1 1 1 1]\n"
     ]
    }
   ],
   "execution_count": 83
  },
  {
   "metadata": {
    "ExecuteTime": {
     "end_time": "2025-01-13T09:54:53.551788Z",
     "start_time": "2025-01-13T09:54:53.549686Z"
    }
   },
   "cell_type": "code",
   "source": [
    "with open(\"cancer_issue.csv\") as file:\n",
    "    data = file.readline(4)\n",
    "    print(data)"
   ],
   "id": "e7c33ed7a95b443e",
   "outputs": [
    {
     "name": "stdout",
     "output_type": "stream",
     "text": [
      "Pati\n"
     ]
    }
   ],
   "execution_count": 84
  }
 ],
 "metadata": {
  "kernelspec": {
   "display_name": "Python 3",
   "language": "python",
   "name": "python3"
  },
  "language_info": {
   "codemirror_mode": {
    "name": "ipython",
    "version": 2
   },
   "file_extension": ".py",
   "mimetype": "text/x-python",
   "name": "python",
   "nbconvert_exporter": "python",
   "pygments_lexer": "ipython2",
   "version": "2.7.6"
  }
 },
 "nbformat": 4,
 "nbformat_minor": 5
}
